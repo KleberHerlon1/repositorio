{
 "cells": [
  {
   "cell_type": "code",
   "execution_count": 88,
   "metadata": {},
   "outputs": [],
   "source": [
    "import pandas as pd"
   ]
  },
  {
   "cell_type": "markdown",
   "metadata": {},
   "source": [
    "# Importando Pandas"
   ]
  },
  {
   "cell_type": "code",
   "execution_count": 79,
   "metadata": {},
   "outputs": [],
   "source": [
    "base = pd.read_excel(r'E:/Teste.xlsx')"
   ]
  },
  {
   "cell_type": "markdown",
   "metadata": {},
   "source": [
    "# Lendo uma Base no Pandas"
   ]
  },
  {
   "cell_type": "code",
   "execution_count": 80,
   "metadata": {},
   "outputs": [
    {
     "data": {
      "text/plain": [
       "Data         datetime64[ns]\n",
       "Ano                   int64\n",
       "Mês                  object\n",
       "Cliente              object\n",
       "Região               object\n",
       "Produto              object\n",
       "Valor                 int64\n",
       "FormaPgto            object\n",
       "dtype: object"
      ]
     },
     "execution_count": 80,
     "metadata": {},
     "output_type": "execute_result"
    }
   ],
   "source": [
    "base.dtypes"
   ]
  },
  {
   "cell_type": "markdown",
   "metadata": {},
   "source": [
    "# Verificando os tipos de dados"
   ]
  },
  {
   "cell_type": "code",
   "execution_count": 81,
   "metadata": {},
   "outputs": [
    {
     "data": {
      "text/html": [
       "<div>\n",
       "<style scoped>\n",
       "    .dataframe tbody tr th:only-of-type {\n",
       "        vertical-align: middle;\n",
       "    }\n",
       "\n",
       "    .dataframe tbody tr th {\n",
       "        vertical-align: top;\n",
       "    }\n",
       "\n",
       "    .dataframe thead th {\n",
       "        text-align: right;\n",
       "    }\n",
       "</style>\n",
       "<table border=\"1\" class=\"dataframe\">\n",
       "  <thead>\n",
       "    <tr style=\"text-align: right;\">\n",
       "      <th></th>\n",
       "      <th>Data</th>\n",
       "      <th>Ano</th>\n",
       "      <th>Mês</th>\n",
       "      <th>Cliente</th>\n",
       "      <th>Região</th>\n",
       "      <th>Produto</th>\n",
       "      <th>Valor</th>\n",
       "      <th>FormaPgto</th>\n",
       "    </tr>\n",
       "  </thead>\n",
       "  <tbody>\n",
       "    <tr>\n",
       "      <th>0</th>\n",
       "      <td>2019-01-01</td>\n",
       "      <td>2019</td>\n",
       "      <td>jan</td>\n",
       "      <td>Luan Soares</td>\n",
       "      <td>Sudeste</td>\n",
       "      <td>Produto B</td>\n",
       "      <td>350</td>\n",
       "      <td>Boleto Bancário</td>\n",
       "    </tr>\n",
       "    <tr>\n",
       "      <th>1</th>\n",
       "      <td>2019-01-01</td>\n",
       "      <td>2019</td>\n",
       "      <td>jan</td>\n",
       "      <td>Mayná Bastos</td>\n",
       "      <td>Centro-Oeste</td>\n",
       "      <td>Produto C</td>\n",
       "      <td>200</td>\n",
       "      <td>Cartão de Débito</td>\n",
       "    </tr>\n",
       "    <tr>\n",
       "      <th>2</th>\n",
       "      <td>2019-01-01</td>\n",
       "      <td>2019</td>\n",
       "      <td>jan</td>\n",
       "      <td>Leila Amorim</td>\n",
       "      <td>Nordeste</td>\n",
       "      <td>Produto C</td>\n",
       "      <td>200</td>\n",
       "      <td>Boleto Bancário</td>\n",
       "    </tr>\n",
       "    <tr>\n",
       "      <th>3</th>\n",
       "      <td>2019-01-01</td>\n",
       "      <td>2019</td>\n",
       "      <td>jan</td>\n",
       "      <td>Denilton Linhares</td>\n",
       "      <td>Norte</td>\n",
       "      <td>Produto C</td>\n",
       "      <td>200</td>\n",
       "      <td>Cartão de Crédito</td>\n",
       "    </tr>\n",
       "    <tr>\n",
       "      <th>4</th>\n",
       "      <td>2019-01-01</td>\n",
       "      <td>2019</td>\n",
       "      <td>jan</td>\n",
       "      <td>Larissa Fontenelle</td>\n",
       "      <td>Sudeste</td>\n",
       "      <td>Produto D</td>\n",
       "      <td>600</td>\n",
       "      <td>Boleto Bancário</td>\n",
       "    </tr>\n",
       "    <tr>\n",
       "      <th>...</th>\n",
       "      <td>...</td>\n",
       "      <td>...</td>\n",
       "      <td>...</td>\n",
       "      <td>...</td>\n",
       "      <td>...</td>\n",
       "      <td>...</td>\n",
       "      <td>...</td>\n",
       "      <td>...</td>\n",
       "    </tr>\n",
       "    <tr>\n",
       "      <th>11994</th>\n",
       "      <td>2021-12-31</td>\n",
       "      <td>2021</td>\n",
       "      <td>dez</td>\n",
       "      <td>Wellington Naveiro</td>\n",
       "      <td>Sudeste</td>\n",
       "      <td>Produto D</td>\n",
       "      <td>600</td>\n",
       "      <td>Cartão de Débito</td>\n",
       "    </tr>\n",
       "    <tr>\n",
       "      <th>11995</th>\n",
       "      <td>2021-12-31</td>\n",
       "      <td>2021</td>\n",
       "      <td>dez</td>\n",
       "      <td>Luiza César</td>\n",
       "      <td>Sudeste</td>\n",
       "      <td>Produto D</td>\n",
       "      <td>600</td>\n",
       "      <td>Cartão de Débito</td>\n",
       "    </tr>\n",
       "    <tr>\n",
       "      <th>11996</th>\n",
       "      <td>2021-12-31</td>\n",
       "      <td>2021</td>\n",
       "      <td>dez</td>\n",
       "      <td>Álvaro Alves</td>\n",
       "      <td>Nordeste</td>\n",
       "      <td>Produto A</td>\n",
       "      <td>500</td>\n",
       "      <td>Cartão de Débito</td>\n",
       "    </tr>\n",
       "    <tr>\n",
       "      <th>11997</th>\n",
       "      <td>2021-12-31</td>\n",
       "      <td>2021</td>\n",
       "      <td>dez</td>\n",
       "      <td>Raiam Tkotz</td>\n",
       "      <td>Nordeste</td>\n",
       "      <td>Produto C</td>\n",
       "      <td>200</td>\n",
       "      <td>Cartão de Crédito</td>\n",
       "    </tr>\n",
       "    <tr>\n",
       "      <th>11998</th>\n",
       "      <td>2021-12-31</td>\n",
       "      <td>2021</td>\n",
       "      <td>dez</td>\n",
       "      <td>Marcelle Chagas</td>\n",
       "      <td>Sudeste</td>\n",
       "      <td>Produto D</td>\n",
       "      <td>600</td>\n",
       "      <td>Cartão de Débito</td>\n",
       "    </tr>\n",
       "  </tbody>\n",
       "</table>\n",
       "<p>11999 rows × 8 columns</p>\n",
       "</div>"
      ],
      "text/plain": [
       "            Data   Ano  Mês             Cliente        Região    Produto  \\\n",
       "0     2019-01-01  2019  jan         Luan Soares       Sudeste  Produto B   \n",
       "1     2019-01-01  2019  jan        Mayná Bastos  Centro-Oeste  Produto C   \n",
       "2     2019-01-01  2019  jan        Leila Amorim      Nordeste  Produto C   \n",
       "3     2019-01-01  2019  jan   Denilton Linhares         Norte  Produto C   \n",
       "4     2019-01-01  2019  jan  Larissa Fontenelle       Sudeste  Produto D   \n",
       "...          ...   ...  ...                 ...           ...        ...   \n",
       "11994 2021-12-31  2021  dez  Wellington Naveiro       Sudeste  Produto D   \n",
       "11995 2021-12-31  2021  dez         Luiza César       Sudeste  Produto D   \n",
       "11996 2021-12-31  2021  dez        Álvaro Alves      Nordeste  Produto A   \n",
       "11997 2021-12-31  2021  dez         Raiam Tkotz      Nordeste  Produto C   \n",
       "11998 2021-12-31  2021  dez     Marcelle Chagas       Sudeste  Produto D   \n",
       "\n",
       "       Valor          FormaPgto  \n",
       "0        350    Boleto Bancário  \n",
       "1        200   Cartão de Débito  \n",
       "2        200    Boleto Bancário  \n",
       "3        200  Cartão de Crédito  \n",
       "4        600    Boleto Bancário  \n",
       "...      ...                ...  \n",
       "11994    600   Cartão de Débito  \n",
       "11995    600   Cartão de Débito  \n",
       "11996    500   Cartão de Débito  \n",
       "11997    200  Cartão de Crédito  \n",
       "11998    600   Cartão de Débito  \n",
       "\n",
       "[11999 rows x 8 columns]"
      ]
     },
     "execution_count": 81,
     "metadata": {},
     "output_type": "execute_result"
    }
   ],
   "source": [
    "base"
   ]
  },
  {
   "cell_type": "markdown",
   "metadata": {},
   "source": [
    "# Chamando a base para Visualização"
   ]
  },
  {
   "cell_type": "code",
   "execution_count": 82,
   "metadata": {},
   "outputs": [
    {
     "data": {
      "text/html": [
       "<div>\n",
       "<style scoped>\n",
       "    .dataframe tbody tr th:only-of-type {\n",
       "        vertical-align: middle;\n",
       "    }\n",
       "\n",
       "    .dataframe tbody tr th {\n",
       "        vertical-align: top;\n",
       "    }\n",
       "\n",
       "    .dataframe thead th {\n",
       "        text-align: right;\n",
       "    }\n",
       "</style>\n",
       "<table border=\"1\" class=\"dataframe\">\n",
       "  <thead>\n",
       "    <tr style=\"text-align: right;\">\n",
       "      <th></th>\n",
       "      <th>Data</th>\n",
       "      <th>Ano</th>\n",
       "      <th>Mês</th>\n",
       "      <th>Cliente</th>\n",
       "      <th>Região</th>\n",
       "      <th>Produto</th>\n",
       "      <th>Valor</th>\n",
       "      <th>FormaPgto</th>\n",
       "    </tr>\n",
       "  </thead>\n",
       "  <tbody>\n",
       "    <tr>\n",
       "      <th>0</th>\n",
       "      <td>2019-01-01</td>\n",
       "      <td>2019</td>\n",
       "      <td>jan</td>\n",
       "      <td>Luan Soares</td>\n",
       "      <td>Sudeste</td>\n",
       "      <td>Produto B</td>\n",
       "      <td>350</td>\n",
       "      <td>Boleto Bancário</td>\n",
       "    </tr>\n",
       "    <tr>\n",
       "      <th>1</th>\n",
       "      <td>2019-01-01</td>\n",
       "      <td>2019</td>\n",
       "      <td>jan</td>\n",
       "      <td>Mayná Bastos</td>\n",
       "      <td>Centro-Oeste</td>\n",
       "      <td>Produto C</td>\n",
       "      <td>200</td>\n",
       "      <td>Cartão de Débito</td>\n",
       "    </tr>\n",
       "    <tr>\n",
       "      <th>2</th>\n",
       "      <td>2019-01-01</td>\n",
       "      <td>2019</td>\n",
       "      <td>jan</td>\n",
       "      <td>Leila Amorim</td>\n",
       "      <td>Nordeste</td>\n",
       "      <td>Produto C</td>\n",
       "      <td>200</td>\n",
       "      <td>Boleto Bancário</td>\n",
       "    </tr>\n",
       "  </tbody>\n",
       "</table>\n",
       "</div>"
      ],
      "text/plain": [
       "        Data   Ano  Mês       Cliente        Região    Produto  Valor  \\\n",
       "0 2019-01-01  2019  jan   Luan Soares       Sudeste  Produto B    350   \n",
       "1 2019-01-01  2019  jan  Mayná Bastos  Centro-Oeste  Produto C    200   \n",
       "2 2019-01-01  2019  jan  Leila Amorim      Nordeste  Produto C    200   \n",
       "\n",
       "          FormaPgto  \n",
       "0   Boleto Bancário  \n",
       "1  Cartão de Débito  \n",
       "2   Boleto Bancário  "
      ]
     },
     "execution_count": 82,
     "metadata": {},
     "output_type": "execute_result"
    }
   ],
   "source": [
    "base.head (3)"
   ]
  },
  {
   "cell_type": "markdown",
   "metadata": {},
   "source": [
    "# Verificando as 3 primeiras linhas da Base"
   ]
  },
  {
   "cell_type": "code",
   "execution_count": 83,
   "metadata": {},
   "outputs": [
    {
     "data": {
      "text/html": [
       "<div>\n",
       "<style scoped>\n",
       "    .dataframe tbody tr th:only-of-type {\n",
       "        vertical-align: middle;\n",
       "    }\n",
       "\n",
       "    .dataframe tbody tr th {\n",
       "        vertical-align: top;\n",
       "    }\n",
       "\n",
       "    .dataframe thead th {\n",
       "        text-align: right;\n",
       "    }\n",
       "</style>\n",
       "<table border=\"1\" class=\"dataframe\">\n",
       "  <thead>\n",
       "    <tr style=\"text-align: right;\">\n",
       "      <th></th>\n",
       "      <th>Data</th>\n",
       "      <th>Ano</th>\n",
       "      <th>Mês</th>\n",
       "      <th>Cliente</th>\n",
       "      <th>Região</th>\n",
       "      <th>Produto</th>\n",
       "      <th>Valor</th>\n",
       "      <th>FormaPgto</th>\n",
       "    </tr>\n",
       "  </thead>\n",
       "  <tbody>\n",
       "    <tr>\n",
       "      <th>11997</th>\n",
       "      <td>2021-12-31</td>\n",
       "      <td>2021</td>\n",
       "      <td>dez</td>\n",
       "      <td>Raiam Tkotz</td>\n",
       "      <td>Nordeste</td>\n",
       "      <td>Produto C</td>\n",
       "      <td>200</td>\n",
       "      <td>Cartão de Crédito</td>\n",
       "    </tr>\n",
       "    <tr>\n",
       "      <th>11998</th>\n",
       "      <td>2021-12-31</td>\n",
       "      <td>2021</td>\n",
       "      <td>dez</td>\n",
       "      <td>Marcelle Chagas</td>\n",
       "      <td>Sudeste</td>\n",
       "      <td>Produto D</td>\n",
       "      <td>600</td>\n",
       "      <td>Cartão de Débito</td>\n",
       "    </tr>\n",
       "  </tbody>\n",
       "</table>\n",
       "</div>"
      ],
      "text/plain": [
       "            Data   Ano  Mês          Cliente    Região    Produto  Valor  \\\n",
       "11997 2021-12-31  2021  dez      Raiam Tkotz  Nordeste  Produto C    200   \n",
       "11998 2021-12-31  2021  dez  Marcelle Chagas   Sudeste  Produto D    600   \n",
       "\n",
       "               FormaPgto  \n",
       "11997  Cartão de Crédito  \n",
       "11998   Cartão de Débito  "
      ]
     },
     "execution_count": 83,
     "metadata": {},
     "output_type": "execute_result"
    }
   ],
   "source": [
    "base.tail (2)"
   ]
  },
  {
   "cell_type": "markdown",
   "metadata": {},
   "source": [
    "# Verificando as 2 ultimas linhas da Base"
   ]
  },
  {
   "cell_type": "code",
   "execution_count": 84,
   "metadata": {},
   "outputs": [
    {
     "name": "stdout",
     "output_type": "stream",
     "text": [
      "<class 'pandas.core.frame.DataFrame'>\n",
      "RangeIndex: 11999 entries, 0 to 11998\n",
      "Data columns (total 8 columns):\n",
      " #   Column     Non-Null Count  Dtype         \n",
      "---  ------     --------------  -----         \n",
      " 0   Data       11999 non-null  datetime64[ns]\n",
      " 1   Ano        11999 non-null  int64         \n",
      " 2   Mês        11999 non-null  object        \n",
      " 3   Cliente    11999 non-null  object        \n",
      " 4   Região     11999 non-null  object        \n",
      " 5   Produto    11999 non-null  object        \n",
      " 6   Valor      11999 non-null  int64         \n",
      " 7   FormaPgto  11999 non-null  object        \n",
      "dtypes: datetime64[ns](1), int64(2), object(5)\n",
      "memory usage: 750.1+ KB\n"
     ]
    }
   ],
   "source": [
    "base.info()"
   ]
  },
  {
   "cell_type": "markdown",
   "metadata": {},
   "source": [
    "# Verificando o tipo de dados em cada uma das colunas"
   ]
  },
  {
   "cell_type": "code",
   "execution_count": 85,
   "metadata": {},
   "outputs": [
    {
     "data": {
      "text/html": [
       "<div>\n",
       "<style scoped>\n",
       "    .dataframe tbody tr th:only-of-type {\n",
       "        vertical-align: middle;\n",
       "    }\n",
       "\n",
       "    .dataframe tbody tr th {\n",
       "        vertical-align: top;\n",
       "    }\n",
       "\n",
       "    .dataframe thead th {\n",
       "        text-align: right;\n",
       "    }\n",
       "</style>\n",
       "<table border=\"1\" class=\"dataframe\">\n",
       "  <thead>\n",
       "    <tr style=\"text-align: right;\">\n",
       "      <th></th>\n",
       "      <th>Data</th>\n",
       "      <th>Ano</th>\n",
       "      <th>Mês</th>\n",
       "      <th>Cliente</th>\n",
       "      <th>Região</th>\n",
       "      <th>Produto</th>\n",
       "      <th>Valor</th>\n",
       "      <th>FormaPgto</th>\n",
       "    </tr>\n",
       "  </thead>\n",
       "  <tbody>\n",
       "    <tr>\n",
       "      <th>0</th>\n",
       "      <td>2019-01-01</td>\n",
       "      <td>2019</td>\n",
       "      <td>jan</td>\n",
       "      <td>Luan Soares</td>\n",
       "      <td>Sudeste</td>\n",
       "      <td>Produto B</td>\n",
       "      <td>350</td>\n",
       "      <td>Boleto Bancário</td>\n",
       "    </tr>\n",
       "    <tr>\n",
       "      <th>1</th>\n",
       "      <td>2019-01-01</td>\n",
       "      <td>2019</td>\n",
       "      <td>jan</td>\n",
       "      <td>Mayná Bastos</td>\n",
       "      <td>Centro-Oeste</td>\n",
       "      <td>Produto C</td>\n",
       "      <td>200</td>\n",
       "      <td>Cartão de Débito</td>\n",
       "    </tr>\n",
       "    <tr>\n",
       "      <th>2</th>\n",
       "      <td>2019-01-01</td>\n",
       "      <td>2019</td>\n",
       "      <td>jan</td>\n",
       "      <td>Leila Amorim</td>\n",
       "      <td>Nordeste</td>\n",
       "      <td>Produto C</td>\n",
       "      <td>200</td>\n",
       "      <td>Boleto Bancário</td>\n",
       "    </tr>\n",
       "    <tr>\n",
       "      <th>3</th>\n",
       "      <td>2019-01-01</td>\n",
       "      <td>2019</td>\n",
       "      <td>jan</td>\n",
       "      <td>Denilton Linhares</td>\n",
       "      <td>Norte</td>\n",
       "      <td>Produto C</td>\n",
       "      <td>200</td>\n",
       "      <td>Cartão de Crédito</td>\n",
       "    </tr>\n",
       "    <tr>\n",
       "      <th>4</th>\n",
       "      <td>2019-01-01</td>\n",
       "      <td>2019</td>\n",
       "      <td>jan</td>\n",
       "      <td>Larissa Fontenelle</td>\n",
       "      <td>Sudeste</td>\n",
       "      <td>Produto D</td>\n",
       "      <td>600</td>\n",
       "      <td>Boleto Bancário</td>\n",
       "    </tr>\n",
       "    <tr>\n",
       "      <th>...</th>\n",
       "      <td>...</td>\n",
       "      <td>...</td>\n",
       "      <td>...</td>\n",
       "      <td>...</td>\n",
       "      <td>...</td>\n",
       "      <td>...</td>\n",
       "      <td>...</td>\n",
       "      <td>...</td>\n",
       "    </tr>\n",
       "    <tr>\n",
       "      <th>11994</th>\n",
       "      <td>2021-12-31</td>\n",
       "      <td>2021</td>\n",
       "      <td>dez</td>\n",
       "      <td>Wellington Naveiro</td>\n",
       "      <td>Sudeste</td>\n",
       "      <td>Produto D</td>\n",
       "      <td>600</td>\n",
       "      <td>Cartão de Débito</td>\n",
       "    </tr>\n",
       "    <tr>\n",
       "      <th>11995</th>\n",
       "      <td>2021-12-31</td>\n",
       "      <td>2021</td>\n",
       "      <td>dez</td>\n",
       "      <td>Luiza César</td>\n",
       "      <td>Sudeste</td>\n",
       "      <td>Produto D</td>\n",
       "      <td>600</td>\n",
       "      <td>Cartão de Débito</td>\n",
       "    </tr>\n",
       "    <tr>\n",
       "      <th>11996</th>\n",
       "      <td>2021-12-31</td>\n",
       "      <td>2021</td>\n",
       "      <td>dez</td>\n",
       "      <td>Álvaro Alves</td>\n",
       "      <td>Nordeste</td>\n",
       "      <td>Produto A</td>\n",
       "      <td>500</td>\n",
       "      <td>Cartão de Débito</td>\n",
       "    </tr>\n",
       "    <tr>\n",
       "      <th>11997</th>\n",
       "      <td>2021-12-31</td>\n",
       "      <td>2021</td>\n",
       "      <td>dez</td>\n",
       "      <td>Raiam Tkotz</td>\n",
       "      <td>Nordeste</td>\n",
       "      <td>Produto C</td>\n",
       "      <td>200</td>\n",
       "      <td>Cartão de Crédito</td>\n",
       "    </tr>\n",
       "    <tr>\n",
       "      <th>11998</th>\n",
       "      <td>2021-12-31</td>\n",
       "      <td>2021</td>\n",
       "      <td>dez</td>\n",
       "      <td>Marcelle Chagas</td>\n",
       "      <td>Sudeste</td>\n",
       "      <td>Produto D</td>\n",
       "      <td>600</td>\n",
       "      <td>Cartão de Débito</td>\n",
       "    </tr>\n",
       "  </tbody>\n",
       "</table>\n",
       "<p>11999 rows × 8 columns</p>\n",
       "</div>"
      ],
      "text/plain": [
       "            Data   Ano  Mês             Cliente        Região    Produto  \\\n",
       "0     2019-01-01  2019  jan         Luan Soares       Sudeste  Produto B   \n",
       "1     2019-01-01  2019  jan        Mayná Bastos  Centro-Oeste  Produto C   \n",
       "2     2019-01-01  2019  jan        Leila Amorim      Nordeste  Produto C   \n",
       "3     2019-01-01  2019  jan   Denilton Linhares         Norte  Produto C   \n",
       "4     2019-01-01  2019  jan  Larissa Fontenelle       Sudeste  Produto D   \n",
       "...          ...   ...  ...                 ...           ...        ...   \n",
       "11994 2021-12-31  2021  dez  Wellington Naveiro       Sudeste  Produto D   \n",
       "11995 2021-12-31  2021  dez         Luiza César       Sudeste  Produto D   \n",
       "11996 2021-12-31  2021  dez        Álvaro Alves      Nordeste  Produto A   \n",
       "11997 2021-12-31  2021  dez         Raiam Tkotz      Nordeste  Produto C   \n",
       "11998 2021-12-31  2021  dez     Marcelle Chagas       Sudeste  Produto D   \n",
       "\n",
       "       Valor          FormaPgto  \n",
       "0        350    Boleto Bancário  \n",
       "1        200   Cartão de Débito  \n",
       "2        200    Boleto Bancário  \n",
       "3        200  Cartão de Crédito  \n",
       "4        600    Boleto Bancário  \n",
       "...      ...                ...  \n",
       "11994    600   Cartão de Débito  \n",
       "11995    600   Cartão de Débito  \n",
       "11996    500   Cartão de Débito  \n",
       "11997    200  Cartão de Crédito  \n",
       "11998    600   Cartão de Débito  \n",
       "\n",
       "[11999 rows x 8 columns]"
      ]
     },
     "execution_count": 85,
     "metadata": {},
     "output_type": "execute_result"
    }
   ],
   "source": [
    "base [base['Valor'] > 100]"
   ]
  },
  {
   "cell_type": "markdown",
   "metadata": {},
   "source": [
    "# Filtrando valores maiores que 100"
   ]
  },
  {
   "cell_type": "code",
   "execution_count": 86,
   "metadata": {},
   "outputs": [
    {
     "data": {
      "image/png": "[encoded data removed]",
      "text/plain": [
       "<Figure size 640x480 with 1 Axes>"
      ]
     },
     "metadata": {},
     "output_type": "display_data"
    }
   ],
   "source": [
    "base.plot.scatter(x='Mês', y='Valor');"
   ]
  },
  {
   "cell_type": "markdown",
   "metadata": {},
   "source": [
    "# Visualizando de forma gráfica uma tabela"
   ]
  },
  {
   "cell_type": "code",
   "execution_count": 87,
   "metadata": {},
   "outputs": [
    {
     "data": {
      "text/plain": [
       "<bound method Series.mean of 0        350\n",
       "1        200\n",
       "2        200\n",
       "3        200\n",
       "4        600\n",
       "        ... \n",
       "11994    600\n",
       "11995    600\n",
       "11996    500\n",
       "11997    200\n",
       "11998    600\n",
       "Name: Valor, Length: 11999, dtype: int64>"
      ]
     },
     "execution_count": 87,
     "metadata": {},
     "output_type": "execute_result"
    }
   ],
   "source": [
    "base['Valor'].mean"
   ]
  },
  {
   "cell_type": "markdown",
   "metadata": {},
   "source": [
    "# Visualizando a média de Valor"
   ]
  }
 ],
 "metadata": {
  "kernelspec": {
   "display_name": "Python 3",
   "language": "python",
   "name": "python3"
  },
  "language_info": {
   "codemirror_mode": {
    "name": "ipython",
    "version": 3
   },
   "file_extension": ".py",
   "mimetype": "text/x-python",
   "name": "python",
   "nbconvert_exporter": "python",
   "pygments_lexer": "ipython3",
   "version": "3.11.5"
  },
  "orig_nbformat": 4
 },
 "nbformat": 4,
 "nbformat_minor": 2
}
